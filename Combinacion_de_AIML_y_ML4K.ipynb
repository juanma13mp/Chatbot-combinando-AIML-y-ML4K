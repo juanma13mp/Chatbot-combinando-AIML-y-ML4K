{
  "nbformat": 4,
  "nbformat_minor": 0,
  "metadata": {
    "colab": {
      "name": "Combinacion de AIML y ML4K.ipynb",
      "provenance": []
    },
    "kernelspec": {
      "name": "python3",
      "display_name": "Python 3"
    },
    "language_info": {
      "name": "python"
    }
  },
  "cells": [
    {
      "cell_type": "code",
      "source": [
        "%pip install programy"
      ],
      "metadata": {
        "colab": {
          "base_uri": "https://localhost:8080/"
        },
        "id": "AbifeBY6x4sL",
        "outputId": "ccc43b24-4338-4506-95e6-aa050afa6634"
      },
      "execution_count": null,
      "outputs": [
        {
          "output_type": "stream",
          "name": "stdout",
          "text": [
            "Requirement already satisfied: programy in /usr/local/lib/python3.7/dist-packages (5.0.1)\n",
            "Requirement already satisfied: pymongo==3.10.0 in /usr/local/lib/python3.7/dist-packages (from programy) (3.10.0)\n",
            "Requirement already satisfied: kik==1.5.0 in /usr/local/lib/python3.7/dist-packages (from programy) (1.5.0)\n",
            "Requirement already satisfied: pymessenger==0.0.7.0 in /usr/local/lib/python3.7/dist-packages (from programy) (0.0.7.0)\n",
            "Requirement already satisfied: slackclient==1.3.1 in /usr/local/lib/python3.7/dist-packages (from programy) (1.3.1)\n",
            "Requirement already satisfied: lxml==4.6.2 in /usr/local/lib/python3.7/dist-packages (from programy) (4.6.2)\n",
            "Requirement already satisfied: autocorrect==0.4.4 in /usr/local/lib/python3.7/dist-packages (from programy) (0.4.4)\n",
            "Requirement already satisfied: redis==3.3.11 in /usr/local/lib/python3.7/dist-packages (from programy) (3.3.11)\n",
            "Requirement already satisfied: tweepy==3.8.0 in /usr/local/lib/python3.7/dist-packages (from programy) (3.8.0)\n",
            "Requirement already satisfied: APScheduler==3.6.3 in /usr/local/lib/python3.7/dist-packages (from programy) (3.6.3)\n",
            "Requirement already satisfied: botbuilder-core==4.5.0b4 in /usr/local/lib/python3.7/dist-packages (from programy) (4.5.0b4)\n",
            "Requirement already satisfied: emoji==0.5.4 in /usr/local/lib/python3.7/dist-packages (from programy) (0.5.4)\n",
            "Requirement already satisfied: python-dateutil==2.8.1 in /usr/local/lib/python3.7/dist-packages (from programy) (2.8.1)\n",
            "Requirement already satisfied: wikipedia==1.4.0 in /usr/local/lib/python3.7/dist-packages (from programy) (1.4.0)\n",
            "Requirement already satisfied: requests==2.22.0 in /usr/local/lib/python3.7/dist-packages (from programy) (2.22.0)\n",
            "Requirement already satisfied: botbuilder-schema>=4.5.0b4 in /usr/local/lib/python3.7/dist-packages (from programy) (4.14.1)\n",
            "Requirement already satisfied: PyMySQL==0.9.3 in /usr/local/lib/python3.7/dist-packages (from programy) (0.9.3)\n",
            "Requirement already satisfied: MetOffer==1.3.2 in /usr/local/lib/python3.7/dist-packages (from programy) (1.3.2)\n",
            "Requirement already satisfied: textblob==0.15.3 in /usr/local/lib/python3.7/dist-packages (from programy) (0.15.3)\n",
            "Requirement already satisfied: PyYAML==5.3b1 in /usr/local/lib/python3.7/dist-packages (from programy) (5.3b1)\n",
            "Requirement already satisfied: python-telegram-bot==12.0.0 in /usr/local/lib/python3.7/dist-packages (from programy) (12.0.0)\n",
            "Requirement already satisfied: Flask-SocketIO==4.2.1 in /usr/local/lib/python3.7/dist-packages (from programy) (4.2.1)\n",
            "Requirement already satisfied: twilio==6.35.1 in /usr/local/lib/python3.7/dist-packages (from programy) (6.35.1)\n",
            "Requirement already satisfied: beautifulsoup4==4.8 in /usr/local/lib/python3.7/dist-packages (from programy) (4.8.0)\n",
            "Requirement already satisfied: discord.py==1.2.3 in /usr/local/lib/python3.7/dist-packages (from programy) (1.2.3)\n",
            "Requirement already satisfied: wget==3.2 in /usr/local/lib/python3.7/dist-packages (from programy) (3.2)\n",
            "Requirement already satisfied: sleekxmpp==1.3.3 in /usr/local/lib/python3.7/dist-packages (from programy) (1.3.3)\n",
            "Requirement already satisfied: SQLAlchemy==1.3.12 in /usr/local/lib/python3.7/dist-packages (from programy) (1.3.12)\n",
            "Requirement already satisfied: line-bot-sdk==1.15.0 in /usr/local/lib/python3.7/dist-packages (from programy) (1.15.0)\n",
            "Requirement already satisfied: Flask==1.1.1 in /usr/local/lib/python3.7/dist-packages (from programy) (1.1.1)\n",
            "Requirement already satisfied: viberbot==1.0.11 in /usr/local/lib/python3.7/dist-packages (from programy) (1.0.11)\n",
            "Requirement already satisfied: tzlocal>=1.2 in /usr/local/lib/python3.7/dist-packages (from APScheduler==3.6.3->programy) (1.5.1)\n",
            "Requirement already satisfied: setuptools>=0.7 in /usr/local/lib/python3.7/dist-packages (from APScheduler==3.6.3->programy) (57.4.0)\n",
            "Requirement already satisfied: pytz in /usr/local/lib/python3.7/dist-packages (from APScheduler==3.6.3->programy) (2018.9)\n",
            "Requirement already satisfied: six>=1.4.0 in /usr/local/lib/python3.7/dist-packages (from APScheduler==3.6.3->programy) (1.10.0)\n",
            "Requirement already satisfied: soupsieve>=1.2 in /usr/local/lib/python3.7/dist-packages (from beautifulsoup4==4.8->programy) (2.3.1)\n",
            "Requirement already satisfied: botframework-connector>=4.5.0b4 in /usr/local/lib/python3.7/dist-packages (from botbuilder-core==4.5.0b4->programy) (4.9.3)\n",
            "Requirement already satisfied: websockets<7.0,>=6.0 in /usr/local/lib/python3.7/dist-packages (from discord.py==1.2.3->programy) (6.0)\n",
            "Requirement already satisfied: aiohttp<3.6.0,>=3.3.0 in /usr/local/lib/python3.7/dist-packages (from discord.py==1.2.3->programy) (3.5.4)\n",
            "Requirement already satisfied: click>=5.1 in /usr/local/lib/python3.7/dist-packages (from Flask==1.1.1->programy) (7.1.2)\n",
            "Requirement already satisfied: Werkzeug>=0.15 in /usr/local/lib/python3.7/dist-packages (from Flask==1.1.1->programy) (1.0.1)\n",
            "Requirement already satisfied: Jinja2>=2.10.1 in /usr/local/lib/python3.7/dist-packages (from Flask==1.1.1->programy) (2.11.3)\n",
            "Requirement already satisfied: itsdangerous>=0.24 in /usr/local/lib/python3.7/dist-packages (from Flask==1.1.1->programy) (1.1.0)\n",
            "Requirement already satisfied: python-socketio>=4.3.0 in /usr/local/lib/python3.7/dist-packages (from Flask-SocketIO==4.2.1->programy) (5.5.1)\n",
            "Requirement already satisfied: future in /usr/local/lib/python3.7/dist-packages (from line-bot-sdk==1.15.0->programy) (0.16.0)\n",
            "Requirement already satisfied: requests-toolbelt in /usr/local/lib/python3.7/dist-packages (from pymessenger==0.0.7.0->programy) (0.9.1)\n",
            "Requirement already satisfied: cryptography in /usr/local/lib/python3.7/dist-packages (from python-telegram-bot==12.0.0->programy) (2.8)\n",
            "Requirement already satisfied: tornado>=5.1 in /usr/local/lib/python3.7/dist-packages (from python-telegram-bot==12.0.0->programy) (5.1.1)\n",
            "Requirement already satisfied: certifi in /usr/local/lib/python3.7/dist-packages (from python-telegram-bot==12.0.0->programy) (2021.10.8)\n",
            "Requirement already satisfied: chardet<3.1.0,>=3.0.2 in /usr/local/lib/python3.7/dist-packages (from requests==2.22.0->programy) (3.0.4)\n",
            "Requirement already satisfied: idna<2.9,>=2.5 in /usr/local/lib/python3.7/dist-packages (from requests==2.22.0->programy) (2.8)\n",
            "Requirement already satisfied: urllib3!=1.25.0,!=1.25.1,<1.26,>=1.21.1 in /usr/local/lib/python3.7/dist-packages (from requests==2.22.0->programy) (1.24.3)\n",
            "Requirement already satisfied: websocket-client<0.55.0,>=0.35 in /usr/local/lib/python3.7/dist-packages (from slackclient==1.3.1->programy) (0.54.0)\n",
            "Requirement already satisfied: nltk>=3.1 in /usr/local/lib/python3.7/dist-packages (from textblob==0.15.3->programy) (3.2.5)\n",
            "Requirement already satisfied: PySocks>=1.5.7 in /usr/local/lib/python3.7/dist-packages (from tweepy==3.8.0->programy) (1.7.1)\n",
            "Requirement already satisfied: requests-oauthlib>=0.7.0 in /usr/local/lib/python3.7/dist-packages (from tweepy==3.8.0->programy) (1.3.0)\n",
            "Requirement already satisfied: PyJWT>=1.4.2 in /usr/local/lib/python3.7/dist-packages (from twilio==6.35.1->programy) (1.5.3)\n",
            "Requirement already satisfied: yarl<2.0,>=1.0 in /usr/local/lib/python3.7/dist-packages (from aiohttp<3.6.0,>=3.3.0->discord.py==1.2.3->programy) (1.7.2)\n",
            "Requirement already satisfied: async-timeout<4.0,>=3.0 in /usr/local/lib/python3.7/dist-packages (from aiohttp<3.6.0,>=3.3.0->discord.py==1.2.3->programy) (3.0.1)\n",
            "Requirement already satisfied: attrs>=17.3.0 in /usr/local/lib/python3.7/dist-packages (from aiohttp<3.6.0,>=3.3.0->discord.py==1.2.3->programy) (21.4.0)\n",
            "Requirement already satisfied: multidict<5.0,>=4.0 in /usr/local/lib/python3.7/dist-packages (from aiohttp<3.6.0,>=3.3.0->discord.py==1.2.3->programy) (4.7.6)\n",
            "Requirement already satisfied: msrest==0.6.10 in /usr/local/lib/python3.7/dist-packages (from botbuilder-schema>=4.5.0b4->programy) (0.6.10)\n",
            "Requirement already satisfied: isodate>=0.6.0 in /usr/local/lib/python3.7/dist-packages (from msrest==0.6.10->botbuilder-schema>=4.5.0b4->programy) (0.6.1)\n",
            "Requirement already satisfied: adal==1.2.1 in /usr/local/lib/python3.7/dist-packages (from botframework-connector>=4.5.0b4->botbuilder-core==4.5.0b4->programy) (1.2.1)\n",
            "Requirement already satisfied: msal==1.2.0 in /usr/local/lib/python3.7/dist-packages (from botframework-connector>=4.5.0b4->botbuilder-core==4.5.0b4->programy) (1.2.0)\n",
            "Requirement already satisfied: cffi!=1.11.3,>=1.8 in /usr/local/lib/python3.7/dist-packages (from cryptography->python-telegram-bot==12.0.0->programy) (1.15.0)\n",
            "Requirement already satisfied: pycparser in /usr/local/lib/python3.7/dist-packages (from cffi!=1.11.3,>=1.8->cryptography->python-telegram-bot==12.0.0->programy) (2.21)\n",
            "Requirement already satisfied: MarkupSafe>=0.23 in /usr/local/lib/python3.7/dist-packages (from Jinja2>=2.10.1->Flask==1.1.1->programy) (2.0.1)\n",
            "Requirement already satisfied: python-engineio>=4.3.0 in /usr/local/lib/python3.7/dist-packages (from python-socketio>=4.3.0->Flask-SocketIO==4.2.1->programy) (4.3.1)\n",
            "Requirement already satisfied: bidict>=0.21.0 in /usr/local/lib/python3.7/dist-packages (from python-socketio>=4.3.0->Flask-SocketIO==4.2.1->programy) (0.21.4)\n",
            "Requirement already satisfied: oauthlib>=3.0.0 in /usr/local/lib/python3.7/dist-packages (from requests-oauthlib>=0.7.0->tweepy==3.8.0->programy) (3.1.1)\n",
            "Requirement already satisfied: typing-extensions>=3.7.4 in /usr/local/lib/python3.7/dist-packages (from yarl<2.0,>=1.0->aiohttp<3.6.0,>=3.3.0->discord.py==1.2.3->programy) (3.10.0.2)\n"
          ]
        }
      ]
    },
    {
      "cell_type": "code",
      "source": [
        "from programy.clients.embed.datafile import EmbeddedDataFileBot"
      ],
      "metadata": {
        "id": "Bu3zrtBWx-44"
      },
      "execution_count": null,
      "outputs": []
    },
    {
      "cell_type": "code",
      "source": [
        "chatbot = EmbeddedDataFileBot(files={'aiml':['archivos_aiml']}, defaults=True)"
      ],
      "metadata": {
        "id": "kOPT8aTmyD2B"
      },
      "execution_count": null,
      "outputs": []
    },
    {
      "cell_type": "code",
      "execution_count": 56,
      "metadata": {
        "id": "ezqvBDh-mas3"
      },
      "outputs": [],
      "source": [
        "import requests\n",
        "\n",
        "def classify(text):\n",
        "    key = \"285374d0-792d-11ec-af23-cd3b6aaaa72d3536b90c-8509-4d0f-b0d3-c856270cf11a\"\n",
        "    url = \"https://machinelearningforkids.co.uk/api/scratch/\"+ key + \"/classify\"\n",
        "\n",
        "    response = requests.get(url, params={ \"data\" : text })\n",
        "\n",
        "    if response.ok:\n",
        "        responseData = response.json()\n",
        "        topMatch = responseData[0]\n",
        "        return topMatch\n",
        "    else:\n",
        "        response.raise_for_status()\n",
        "\n",
        "def answer_questions():\n",
        "    q = input('> ')\n",
        "    answer = classify(q)\n",
        "    answerclass = answer[\"class_name\"]\n",
        "    if answerclass == \"Saludos\":\n",
        "        print (\"hola\")\n",
        "    elif answerclass == \"Si\":\n",
        "        print (\"Si\")\n",
        "    elif answerclass == \"No\":\n",
        "        print (\"No\")\n",
        "    elif answerclass == \"Botas\":\n",
        "        print (\"Botas\")\n",
        "    elif answerclass == \"Confort\":\n",
        "        print (\"Confort\")\n",
        "    elif answerclass == \"Seguridad\":\n",
        "        print (\"Seguridad\")\n",
        "    elif answerclass == \"Piensos\":\n",
        "        print (\"Piensos\")\n",
        "    elif answerclass == \"Perros\":\n",
        "        print (\"Perros\")\n",
        "    elif answerclass == \"Gatos\":\n",
        "        print (\"Gatos\")\n",
        "    elif answerclass == \"Canarios\":\n",
        "        print (\"Canarios\")\n",
        "    elif answerclass == \"Despedida\":\n",
        "        print (\"Adios\")\n",
        "\n",
        "r = \"\""
      ]
    },
    {
      "cell_type": "code",
      "source": [
        "try:\n",
        "    while True:\n",
        "        r = answer_questions()\n",
        "        print (r)\n",
        "        print (chatbot.ask_question(r))\n",
        "except:\n",
        "    pass"
      ],
      "metadata": {
        "colab": {
          "base_uri": "https://localhost:8080/"
        },
        "id": "f_SdfOlv0WTF",
        "outputId": "4fb31c44-0497-4ceb-fa98-27961a8c3339"
      },
      "execution_count": 57,
      "outputs": [
        {
          "output_type": "stream",
          "name": "stdout",
          "text": [
            "> hola\n",
            "hola\n",
            "None\n"
          ]
        }
      ]
    }
  ]
}